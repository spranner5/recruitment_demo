{
 "cells": [
  {
   "cell_type": "code",
   "execution_count": 2,
   "metadata": {},
   "outputs": [],
   "source": [
    "import pandas as pd\n",
    "import seaborn as sns\n",
    "import matplotlib.pyplot as plt"
   ]
  },
  {
   "cell_type": "code",
   "execution_count": 3,
   "metadata": {},
   "outputs": [],
   "source": [
    "# load awards\n",
    "awards = pd.read_csv(\"../data/uganda_22_awards.csv\")"
   ]
  },
  {
   "cell_type": "code",
   "execution_count": 4,
   "metadata": {},
   "outputs": [
    {
     "name": "stdout",
     "output_type": "stream",
     "text": [
      "<class 'pandas.core.frame.DataFrame'>\n",
      "RangeIndex: 12629 entries, 0 to 12628\n",
      "Data columns (total 10 columns):\n",
      " #   Column                 Non-Null Count  Dtype  \n",
      "---  ------                 --------------  -----  \n",
      " 0   Unnamed: 0             12629 non-null  int64  \n",
      " 1   ocid                   12629 non-null  object \n",
      " 2   date                   12629 non-null  object \n",
      " 3   tag                    12629 non-null  object \n",
      " 4   awards_id              12629 non-null  int64  \n",
      " 5   awards_date            12629 non-null  object \n",
      " 6   awards_v_amount        12629 non-null  float64\n",
      " 7   awards_v_currency      12629 non-null  object \n",
      " 8   awards_suppliers_id    12629 non-null  int64  \n",
      " 9   awards_suppliers_name  12629 non-null  object \n",
      "dtypes: float64(1), int64(3), object(6)\n",
      "memory usage: 986.8+ KB\n"
     ]
    }
   ],
   "source": [
    "awards.info()"
   ]
  },
  {
   "cell_type": "code",
   "execution_count": 5,
   "metadata": {},
   "outputs": [],
   "source": [
    "# tidy up\n",
    "awards.date = pd.to_datetime(awards.date)\n",
    "awards.awards_date = pd.to_datetime(awards.awards_date)\n",
    "awards.tag =awards.tag.astype(\"string\")\n",
    "awards.awards_v_currency = awards.awards_v_currency.astype(\"string\")\n",
    "awards.awards_suppliers_name = awards.awards_suppliers_name.astype(\"string\")\n"
   ]
  },
  {
   "cell_type": "code",
   "execution_count": 6,
   "metadata": {},
   "outputs": [
    {
     "data": {
      "text/plain": [
       "Toyota Uganda Limited                   85\n",
       "Victoria motors limited                 71\n",
       "Total Bulamu Service Station            63\n",
       "Victoria motors ltd                     63\n",
       "Governor Motel                          58\n",
       "The Cooper Motor Corporation (U) Ltd    54\n",
       "Katwaalo Motor Enterprise               51\n",
       "Arrow centre uganda limited             49\n",
       "Transpaper ltd                          47\n",
       "Mogas uganda ltd                        46\n",
       "Name: awards_suppliers_name, dtype: Int64"
      ]
     },
     "execution_count": 6,
     "metadata": {},
     "output_type": "execute_result"
    }
   ],
   "source": [
    "# red flag is many awards to same supplier\n",
    "awards.awards_suppliers_name.value_counts().head(10)\n",
    "# TODO check against historical records"
   ]
  },
  {
   "cell_type": "code",
   "execution_count": null,
   "metadata": {},
   "outputs": [],
   "source": [
    "# diff values?\n",
    "# TODO"
   ]
  },
  {
   "cell_type": "code",
   "execution_count": 8,
   "metadata": {},
   "outputs": [
    {
     "data": {
      "text/html": [
       "<div>\n",
       "<style scoped>\n",
       "    .dataframe tbody tr th:only-of-type {\n",
       "        vertical-align: middle;\n",
       "    }\n",
       "\n",
       "    .dataframe tbody tr th {\n",
       "        vertical-align: top;\n",
       "    }\n",
       "\n",
       "    .dataframe thead th {\n",
       "        text-align: right;\n",
       "    }\n",
       "</style>\n",
       "<table border=\"1\" class=\"dataframe\">\n",
       "  <thead>\n",
       "    <tr style=\"text-align: right;\">\n",
       "      <th></th>\n",
       "      <th>year</th>\n",
       "      <th>month</th>\n",
       "      <th>passengers</th>\n",
       "    </tr>\n",
       "  </thead>\n",
       "  <tbody>\n",
       "    <tr>\n",
       "      <th>0</th>\n",
       "      <td>1949</td>\n",
       "      <td>Jan</td>\n",
       "      <td>112</td>\n",
       "    </tr>\n",
       "    <tr>\n",
       "      <th>1</th>\n",
       "      <td>1949</td>\n",
       "      <td>Feb</td>\n",
       "      <td>118</td>\n",
       "    </tr>\n",
       "    <tr>\n",
       "      <th>2</th>\n",
       "      <td>1949</td>\n",
       "      <td>Mar</td>\n",
       "      <td>132</td>\n",
       "    </tr>\n",
       "    <tr>\n",
       "      <th>3</th>\n",
       "      <td>1949</td>\n",
       "      <td>Apr</td>\n",
       "      <td>129</td>\n",
       "    </tr>\n",
       "    <tr>\n",
       "      <th>4</th>\n",
       "      <td>1949</td>\n",
       "      <td>May</td>\n",
       "      <td>121</td>\n",
       "    </tr>\n",
       "  </tbody>\n",
       "</table>\n",
       "</div>"
      ],
      "text/plain": [
       "   year month  passengers\n",
       "0  1949   Jan         112\n",
       "1  1949   Feb         118\n",
       "2  1949   Mar         132\n",
       "3  1949   Apr         129\n",
       "4  1949   May         121"
      ]
     },
     "execution_count": 8,
     "metadata": {},
     "output_type": "execute_result"
    }
   ],
   "source": [
    "# plot eport time series award value over time\n",
    "sns.set_theme(style=\"dark\")\n",
    "\n",
    "awards.award_year = awards.date.dt.year\n",
    "awards.award_month = awards.datae.dt.month\n",
    "\n",
    "g = sns.relplot(\n",
    "    data = awards,\n",
    "    x=\"month\", y=\"awards_v_amount\", col=\"year\", hue=\"year\",\n",
    "    kind=\"line\", palette=\"crest\", linewidth=4, zorder=5,\n",
    "    col_wrap=3, height=2, aspect=1.5\n",
    ")\n",
    "\n",
    "g.set_axis_labels(\"\", \"Award values\")\n",
    "g.tight_layout()"
   ]
  }
 ],
 "metadata": {
  "kernelspec": {
   "display_name": "edm-water",
   "language": "python",
   "name": "edm-water"
  },
  "language_info": {
   "codemirror_mode": {
    "name": "ipython",
    "version": 3
   },
   "file_extension": ".py",
   "mimetype": "text/x-python",
   "name": "python",
   "nbconvert_exporter": "python",
   "pygments_lexer": "ipython3",
   "version": "3.8.7"
  },
  "orig_nbformat": 4
 },
 "nbformat": 4,
 "nbformat_minor": 2
}
