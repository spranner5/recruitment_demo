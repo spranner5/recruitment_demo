{
 "cells": [
  {
   "cell_type": "code",
   "execution_count": null,
   "metadata": {},
   "outputs": [],
   "source": [
    "import pandas as pd\n",
    "import seaborn as sns\n",
    "import matplotlib.pyplot as plt"
   ]
  },
  {
   "cell_type": "code",
   "execution_count": null,
   "metadata": {},
   "outputs": [],
   "source": [
    "%matplotlib inline"
   ]
  },
  {
   "cell_type": "code",
   "execution_count": null,
   "metadata": {},
   "outputs": [],
   "source": [
    "# load awards\n",
    "awards = pd.read_csv(\"../data/uganda_22_awards.csv\")"
   ]
  },
  {
   "cell_type": "code",
   "execution_count": null,
   "metadata": {},
   "outputs": [],
   "source": [
    "awards.info()"
   ]
  },
  {
   "cell_type": "code",
   "execution_count": null,
   "metadata": {},
   "outputs": [],
   "source": [
    "# tidy up\n",
    "awards.date = pd.to_datetime(awards.date)\n",
    "awards.awards_date = pd.to_datetime(awards.awards_date)\n",
    "awards.tag =awards.tag.astype(\"string\")\n",
    "awards.awards_v_currency = awards.awards_v_currency.astype(\"string\")\n",
    "awards.awards_suppliers_name = awards.awards_suppliers_name.astype(\"string\")\n"
   ]
  },
  {
   "cell_type": "code",
   "execution_count": null,
   "metadata": {},
   "outputs": [],
   "source": [
    "# red flag is many awards to same supplier\n",
    "awards.awards_suppliers_name.value_counts().head(10)\n",
    "# TODO check against historical records"
   ]
  },
  {
   "cell_type": "code",
   "execution_count": null,
   "metadata": {},
   "outputs": [],
   "source": [
    "# diff values?\n",
    "# TODO"
   ]
  },
  {
   "cell_type": "code",
   "execution_count": null,
   "metadata": {},
   "outputs": [],
   "source": [
    "import calendar"
   ]
  },
  {
   "cell_type": "code",
   "execution_count": null,
   "metadata": {},
   "outputs": [],
   "source": [
    "awards[\"award_year\"] = awards[\"awards_date\"].dt.year\n",
    "awards[\"award_month\"] = awards[\"awards_date\"].dt.month.apply(lambda x:calendar.month_abbr[x])\n",
    "\n",
    "\n",
    "awards.head()"
   ]
  },
  {
   "cell_type": "code",
   "execution_count": null,
   "metadata": {},
   "outputs": [],
   "source": [
    "# plot eport time series award value over time\n",
    "sns.set_theme(style=\"dark\")\n",
    "\n",
    "\n",
    "\n",
    "g = sns.relplot(\n",
    "    data = awards,\n",
    "    x=\"award_month\", y=\"awards_v_amount\", col=\"award_year\", hue=\"award_year\",\n",
    "    kind=\"line\", palette=\"crest\", linewidth=4, zorder=5,\n",
    "    col_wrap=3, height=2, aspect=1.5\n",
    ")\n",
    "\n",
    "g.set_axis_labels(\"\", \"Award values\")\n",
    "g.tight_layout()"
   ]
  },
  {
   "cell_type": "code",
   "execution_count": null,
   "metadata": {},
   "outputs": [],
   "source": [
    "awards.plot(x=\"awards_date\", y=\"awards_v_amount\", title=\"Uganda Awards\")"
   ]
  },
  {
   "cell_type": "code",
   "execution_count": null,
   "metadata": {},
   "outputs": [],
   "source": [
    "# save \n",
    "plt.savefig(\"../output/uganda_awards_values_time.png\")"
   ]
  }
 ],
 "metadata": {
  "kernelspec": {
   "display_name": "edm-water",
   "language": "python",
   "name": "edm-water"
  },
  "language_info": {
   "codemirror_mode": {
    "name": "ipython",
    "version": 3
   },
   "file_extension": ".py",
   "mimetype": "text/x-python",
   "name": "python",
   "nbconvert_exporter": "python",
   "pygments_lexer": "ipython3",
   "version": "3.8.7"
  },
  "orig_nbformat": 4
 },
 "nbformat": 4,
 "nbformat_minor": 2
}
