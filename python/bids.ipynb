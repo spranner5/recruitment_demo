{
 "cells": [
  {
   "cell_type": "code",
   "execution_count": 1,
   "metadata": {},
   "outputs": [],
   "source": [
    "import pandas as pd \n",
    "import seaborn as sns\n",
    "import matplotlib.pyplot as plt"
   ]
  },
  {
   "cell_type": "code",
   "execution_count": 2,
   "metadata": {},
   "outputs": [],
   "source": [
    "# load data\n",
    "bids = pd.read_csv(\"../data/uganda_22_bids.csv\")"
   ]
  },
  {
   "cell_type": "code",
   "execution_count": null,
   "metadata": {},
   "outputs": [],
   "source": [
    "# check\n",
    "bids.info()"
   ]
  },
  {
   "cell_type": "code",
   "execution_count": 4,
   "metadata": {},
   "outputs": [
    {
     "name": "stdout",
     "output_type": "stream",
     "text": [
      "<class 'pandas.core.frame.DataFrame'>\n",
      "Int64Index: 7345 entries, 0 to 19511\n",
      "Data columns (total 9 columns):\n",
      " #   Column                       Non-Null Count  Dtype  \n",
      "---  ------                       --------------  -----  \n",
      " 0   Unnamed: 0                   7345 non-null   int64  \n",
      " 1   ocid                         7345 non-null   object \n",
      " 2   date                         7345 non-null   object \n",
      " 3   tag                          7345 non-null   object \n",
      " 4   bids_details_id              7345 non-null   float64\n",
      " 5   bids_details_date            7345 non-null   object \n",
      " 6   bids_details_value_amount    7345 non-null   float64\n",
      " 7   bids_details_value_currency  7345 non-null   object \n",
      " 8   bids_details_status          7345 non-null   object \n",
      "dtypes: float64(2), int64(1), object(6)\n",
      "memory usage: 573.8+ KB\n"
     ]
    }
   ],
   "source": [
    "# lots of nulls, drop them\n",
    "bids = bids.dropna()\n",
    "bids.info()"
   ]
  },
  {
   "cell_type": "code",
   "execution_count": 5,
   "metadata": {},
   "outputs": [],
   "source": [
    "# convert\n",
    "bids.date = bids.date.astype(\"datetime64[ns]\")\n",
    "bids.ocid = bids.ocid.astype(\"string\")\n",
    "bids.tag = bids.tag.astype(\"string\")\n",
    "bids.bids_details_date = bids.bids_details_date.astype(\"datetime64[ns]\")\n",
    "bids.bids_details_value_currency = bids.bids_details_value_currency.astype(\"string\")\n",
    "bids.bids_details_status = bids.bids_details_status.astype(\"string\")"
   ]
  },
  {
   "cell_type": "code",
   "execution_count": 6,
   "metadata": {},
   "outputs": [
    {
     "data": {
      "text/plain": [
       "<StringArray>\n",
       "['UGX', 'USD', 'EUR', 'GBP', 'KES']\n",
       "Length: 5, dtype: string"
      ]
     },
     "execution_count": 6,
     "metadata": {},
     "output_type": "execute_result"
    }
   ],
   "source": [
    "#RQ1 = are all bid currencies the same?\n",
    "pd.unique(bids.bids_details_value_currency)"
   ]
  },
  {
   "cell_type": "code",
   "execution_count": 7,
   "metadata": {},
   "outputs": [
    {
     "data": {
      "text/plain": [
       "UGX    7096\n",
       "USD     224\n",
       "EUR      12\n",
       "KES       8\n",
       "GBP       5\n",
       "Name: bids_details_value_currency, dtype: Int64"
      ]
     },
     "execution_count": 7,
     "metadata": {},
     "output_type": "execute_result"
    }
   ],
   "source": [
    "bids.bids_details_value_currency.value_counts()"
   ]
  },
  {
   "cell_type": "code",
   "execution_count": 8,
   "metadata": {},
   "outputs": [],
   "source": [
    "#TODO lookup/convert to UGX\n",
    "\n",
    "#for now we'll ignore those ones\n",
    "bids_ugx = bids[bids.bids_details_value_currency == 'UGX']"
   ]
  },
  {
   "cell_type": "code",
   "execution_count": null,
   "metadata": {},
   "outputs": [],
   "source": [
    "bids_ugx.describe()"
   ]
  },
  {
   "cell_type": "code",
   "execution_count": 10,
   "metadata": {},
   "outputs": [
    {
     "data": {
      "text/plain": [
       "<StringArray>\n",
       "['valid']\n",
       "Length: 1, dtype: string"
      ]
     },
     "execution_count": 10,
     "metadata": {},
     "output_type": "execute_result"
    }
   ],
   "source": [
    "pd.unique(bids.bids_details_status)\n",
    "## all the same so can't tell us anything"
   ]
  },
  {
   "cell_type": "code",
   "execution_count": 11,
   "metadata": {},
   "outputs": [
    {
     "data": {
      "text/plain": [
       "<StringArray>\n",
       "['compiled']\n",
       "Length: 1, dtype: string"
      ]
     },
     "execution_count": 11,
     "metadata": {},
     "output_type": "execute_result"
    }
   ],
   "source": [
    "pd.unique(bids.tag)\n",
    "# all the same, should probably filter out at R time"
   ]
  },
  {
   "cell_type": "code",
   "execution_count": null,
   "metadata": {},
   "outputs": [],
   "source": [
    "bids = bids.drop([\"tag\", \"bids_details_status\"], axis=1)"
   ]
  },
  {
   "cell_type": "code",
   "execution_count": 36,
   "metadata": {},
   "outputs": [],
   "source": [
    "bids = bids[[\"date\", \"bids_details_value_amount\"]]"
   ]
  },
  {
   "cell_type": "code",
   "execution_count": 46,
   "metadata": {},
   "outputs": [
    {
     "data": {
      "text/plain": [
       "Index(['bids_details_value_amount'], dtype='object')"
      ]
     },
     "execution_count": 46,
     "metadata": {},
     "output_type": "execute_result"
    }
   ],
   "source": [
    "bids.head()"
   ]
  },
  {
   "cell_type": "code",
   "execution_count": 38,
   "metadata": {},
   "outputs": [],
   "source": [
    "# time of bids / ammount\n",
    "bids.set_index(\"date\",drop=True,inplace=True)\n"
   ]
  },
  {
   "cell_type": "code",
   "execution_count": null,
   "metadata": {},
   "outputs": [],
   "source": [
    "bids.plot( )"
   ]
  },
  {
   "cell_type": "code",
   "execution_count": 48,
   "metadata": {},
   "outputs": [
    {
     "data": {
      "text/html": [
       "<div>\n",
       "<style scoped>\n",
       "    .dataframe tbody tr th:only-of-type {\n",
       "        vertical-align: middle;\n",
       "    }\n",
       "\n",
       "    .dataframe tbody tr th {\n",
       "        vertical-align: top;\n",
       "    }\n",
       "\n",
       "    .dataframe thead th {\n",
       "        text-align: right;\n",
       "    }\n",
       "</style>\n",
       "<table border=\"1\" class=\"dataframe\">\n",
       "  <thead>\n",
       "    <tr style=\"text-align: right;\">\n",
       "      <th></th>\n",
       "      <th>bids_details_value_amount</th>\n",
       "    </tr>\n",
       "    <tr>\n",
       "      <th>date</th>\n",
       "      <th></th>\n",
       "    </tr>\n",
       "  </thead>\n",
       "  <tbody>\n",
       "    <tr>\n",
       "      <th>2022-06-27 06:00:08</th>\n",
       "      <td>7.401689e+11</td>\n",
       "    </tr>\n",
       "    <tr>\n",
       "      <th>2022-06-27 07:02:31</th>\n",
       "      <td>4.508214e+11</td>\n",
       "    </tr>\n",
       "    <tr>\n",
       "      <th>2022-06-28 06:16:02</th>\n",
       "      <td>3.947649e+11</td>\n",
       "    </tr>\n",
       "    <tr>\n",
       "      <th>2022-06-27 09:15:55</th>\n",
       "      <td>3.858594e+11</td>\n",
       "    </tr>\n",
       "    <tr>\n",
       "      <th>2022-04-01 08:40:11</th>\n",
       "      <td>3.573695e+11</td>\n",
       "    </tr>\n",
       "    <tr>\n",
       "      <th>2022-06-27 07:25:10</th>\n",
       "      <td>2.754640e+11</td>\n",
       "    </tr>\n",
       "    <tr>\n",
       "      <th>2022-06-21 09:35:08</th>\n",
       "      <td>2.610894e+11</td>\n",
       "    </tr>\n",
       "    <tr>\n",
       "      <th>2022-11-18 07:25:04</th>\n",
       "      <td>1.030062e+11</td>\n",
       "    </tr>\n",
       "    <tr>\n",
       "      <th>2022-06-21 08:21:18</th>\n",
       "      <td>5.290850e+10</td>\n",
       "    </tr>\n",
       "    <tr>\n",
       "      <th>2022-06-27 05:39:34</th>\n",
       "      <td>4.861788e+10</td>\n",
       "    </tr>\n",
       "    <tr>\n",
       "      <th>2022-06-15 12:45:34</th>\n",
       "      <td>2.515589e+10</td>\n",
       "    </tr>\n",
       "    <tr>\n",
       "      <th>2022-09-28 07:55:10</th>\n",
       "      <td>2.380045e+10</td>\n",
       "    </tr>\n",
       "    <tr>\n",
       "      <th>2022-11-17 15:22:33</th>\n",
       "      <td>1.611193e+10</td>\n",
       "    </tr>\n",
       "    <tr>\n",
       "      <th>2022-06-04 10:20:29</th>\n",
       "      <td>6.297000e+09</td>\n",
       "    </tr>\n",
       "    <tr>\n",
       "      <th>2022-01-31 10:25:31</th>\n",
       "      <td>5.910874e+09</td>\n",
       "    </tr>\n",
       "    <tr>\n",
       "      <th>2022-06-07 05:26:09</th>\n",
       "      <td>4.992245e+09</td>\n",
       "    </tr>\n",
       "    <tr>\n",
       "      <th>2022-06-29 09:24:12</th>\n",
       "      <td>3.886079e+09</td>\n",
       "    </tr>\n",
       "    <tr>\n",
       "      <th>2022-06-27 08:49:40</th>\n",
       "      <td>3.634400e+09</td>\n",
       "    </tr>\n",
       "    <tr>\n",
       "      <th>2022-10-21 09:22:06</th>\n",
       "      <td>3.135000e+09</td>\n",
       "    </tr>\n",
       "    <tr>\n",
       "      <th>2022-07-06 07:02:44</th>\n",
       "      <td>2.496125e+09</td>\n",
       "    </tr>\n",
       "    <tr>\n",
       "      <th>2022-01-14 12:00:26</th>\n",
       "      <td>2.427809e+09</td>\n",
       "    </tr>\n",
       "    <tr>\n",
       "      <th>2022-07-14 10:09:49</th>\n",
       "      <td>2.196535e+09</td>\n",
       "    </tr>\n",
       "    <tr>\n",
       "      <th>2022-04-06 09:06:00</th>\n",
       "      <td>2.174794e+09</td>\n",
       "    </tr>\n",
       "    <tr>\n",
       "      <th>2022-07-14 09:51:55</th>\n",
       "      <td>2.126692e+09</td>\n",
       "    </tr>\n",
       "    <tr>\n",
       "      <th>2022-04-12 06:48:57</th>\n",
       "      <td>1.875985e+09</td>\n",
       "    </tr>\n",
       "    <tr>\n",
       "      <th>2022-02-23 09:42:33</th>\n",
       "      <td>1.835800e+09</td>\n",
       "    </tr>\n",
       "    <tr>\n",
       "      <th>2022-08-04 09:36:03</th>\n",
       "      <td>1.800000e+09</td>\n",
       "    </tr>\n",
       "    <tr>\n",
       "      <th>2022-06-21 13:10:04</th>\n",
       "      <td>1.586291e+09</td>\n",
       "    </tr>\n",
       "    <tr>\n",
       "      <th>2022-09-02 09:45:36</th>\n",
       "      <td>1.586291e+09</td>\n",
       "    </tr>\n",
       "    <tr>\n",
       "      <th>2022-07-12 10:49:26</th>\n",
       "      <td>1.586291e+09</td>\n",
       "    </tr>\n",
       "  </tbody>\n",
       "</table>\n",
       "</div>"
      ],
      "text/plain": [
       "                     bids_details_value_amount\n",
       "date                                          \n",
       "2022-06-27 06:00:08               7.401689e+11\n",
       "2022-06-27 07:02:31               4.508214e+11\n",
       "2022-06-28 06:16:02               3.947649e+11\n",
       "2022-06-27 09:15:55               3.858594e+11\n",
       "2022-04-01 08:40:11               3.573695e+11\n",
       "2022-06-27 07:25:10               2.754640e+11\n",
       "2022-06-21 09:35:08               2.610894e+11\n",
       "2022-11-18 07:25:04               1.030062e+11\n",
       "2022-06-21 08:21:18               5.290850e+10\n",
       "2022-06-27 05:39:34               4.861788e+10\n",
       "2022-06-15 12:45:34               2.515589e+10\n",
       "2022-09-28 07:55:10               2.380045e+10\n",
       "2022-11-17 15:22:33               1.611193e+10\n",
       "2022-06-04 10:20:29               6.297000e+09\n",
       "2022-01-31 10:25:31               5.910874e+09\n",
       "2022-06-07 05:26:09               4.992245e+09\n",
       "2022-06-29 09:24:12               3.886079e+09\n",
       "2022-06-27 08:49:40               3.634400e+09\n",
       "2022-10-21 09:22:06               3.135000e+09\n",
       "2022-07-06 07:02:44               2.496125e+09\n",
       "2022-01-14 12:00:26               2.427809e+09\n",
       "2022-07-14 10:09:49               2.196535e+09\n",
       "2022-04-06 09:06:00               2.174794e+09\n",
       "2022-07-14 09:51:55               2.126692e+09\n",
       "2022-04-12 06:48:57               1.875985e+09\n",
       "2022-02-23 09:42:33               1.835800e+09\n",
       "2022-08-04 09:36:03               1.800000e+09\n",
       "2022-06-21 13:10:04               1.586291e+09\n",
       "2022-09-02 09:45:36               1.586291e+09\n",
       "2022-07-12 10:49:26               1.586291e+09"
      ]
     },
     "execution_count": 48,
     "metadata": {},
     "output_type": "execute_result"
    }
   ],
   "source": [
    "# top bids\n",
    "bids.sort_values('bids_details_value_amount', ascending=False).head(30)"
   ]
  },
  {
   "cell_type": "code",
   "execution_count": 50,
   "metadata": {},
   "outputs": [
    {
     "data": {
      "text/plain": [
       "<AxesSubplot:xlabel='date'>"
      ]
     },
     "execution_count": 50,
     "metadata": {},
     "output_type": "execute_result"
    },
    {
     "data": {
      "image/png": "[encoded data removed]",
      "text/plain": [
       "<Figure size 640x480 with 1 Axes>"
      ]
     },
     "metadata": {},
     "output_type": "display_data"
    }
   ],
   "source": [
    "bids.sort_values('bids_details_value_amount', ascending=False).head(30).plot()"
   ]
  },
  {
   "cell_type": "code",
   "execution_count": 24,
   "metadata": {},
   "outputs": [],
   "source": [
    "def plot_value_by_year(dataframe):\n",
    "    dataframe.plot(x=\"bids_details_date\", y=\"bids_details_value_amount\", kind=\"scatter\")\n",
    "    plt.xticks(rotation=45)\n",
    "    plt.show()"
   ]
  },
  {
   "cell_type": "code",
   "execution_count": null,
   "metadata": {},
   "outputs": [],
   "source": [
    "# output to /output\n",
    "plt.savefig(\"../output/uganda_bids_ugx_incl_top.png\")"
   ]
  }
 ],
 "metadata": {
  "kernelspec": {
   "display_name": "edm-water",
   "language": "python",
   "name": "edm-water"
  },
  "language_info": {
   "codemirror_mode": {
    "name": "ipython",
    "version": 3
   },
   "file_extension": ".py",
   "mimetype": "text/x-python",
   "name": "python",
   "nbconvert_exporter": "python",
   "pygments_lexer": "ipython3",
   "version": "3.8.7"
  },
  "orig_nbformat": 4
 },
 "nbformat": 4,
 "nbformat_minor": 2
}
