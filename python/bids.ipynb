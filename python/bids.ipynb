{
 "cells": [
  {
   "cell_type": "code",
   "execution_count": 1,
   "metadata": {},
   "outputs": [],
   "source": [
    "import pandas as pd\n",
    "import seaborn as sns"
   ]
  },
  {
   "cell_type": "code",
   "execution_count": 2,
   "metadata": {},
   "outputs": [],
   "source": [
    "# load data\n",
    "bids = pd.read_csv(\"../data/uganda_22_bids.csv\")"
   ]
  },
  {
   "cell_type": "code",
   "execution_count": 4,
   "metadata": {},
   "outputs": [
    {
     "name": "stdout",
     "output_type": "stream",
     "text": [
      "<class 'pandas.core.frame.DataFrame'>\n",
      "RangeIndex: 19513 entries, 0 to 19512\n",
      "Data columns (total 9 columns):\n",
      " #   Column                       Non-Null Count  Dtype  \n",
      "---  ------                       --------------  -----  \n",
      " 0   Unnamed: 0                   19513 non-null  int64  \n",
      " 1   ocid                         19513 non-null  object \n",
      " 2   date                         19513 non-null  object \n",
      " 3   tag                          19513 non-null  object \n",
      " 4   bids_details_id              7345 non-null   float64\n",
      " 5   bids_details_date            7345 non-null   object \n",
      " 6   bids_details_value_amount    7345 non-null   float64\n",
      " 7   bids_details_value_currency  7345 non-null   object \n",
      " 8   bids_details_status          7345 non-null   object \n",
      "dtypes: float64(2), int64(1), object(6)\n",
      "memory usage: 1.3+ MB\n"
     ]
    }
   ],
   "source": [
    "# check\n",
    "bids.info()"
   ]
  },
  {
   "cell_type": "code",
   "execution_count": 13,
   "metadata": {},
   "outputs": [
    {
     "name": "stdout",
     "output_type": "stream",
     "text": [
      "<class 'pandas.core.frame.DataFrame'>\n",
      "Int64Index: 7345 entries, 0 to 19511\n",
      "Data columns (total 9 columns):\n",
      " #   Column                       Non-Null Count  Dtype         \n",
      "---  ------                       --------------  -----         \n",
      " 0   Unnamed: 0                   7345 non-null   int64         \n",
      " 1   ocid                         7345 non-null   string        \n",
      " 2   date                         7345 non-null   datetime64[ns]\n",
      " 3   tag                          7345 non-null   string        \n",
      " 4   bids_details_id              7345 non-null   float64       \n",
      " 5   bids_details_date            7345 non-null   datetime64[ns]\n",
      " 6   bids_details_value_amount    7345 non-null   float64       \n",
      " 7   bids_details_value_currency  7345 non-null   string        \n",
      " 8   bids_details_status          7345 non-null   string        \n",
      "dtypes: datetime64[ns](2), float64(2), int64(1), string(4)\n",
      "memory usage: 573.8 KB\n"
     ]
    }
   ],
   "source": [
    "# lots of nulls, drop them\n",
    "bids = bids.dropna()\n",
    "bids.info()"
   ]
  },
  {
   "cell_type": "code",
   "execution_count": 12,
   "metadata": {},
   "outputs": [
    {
     "name": "stderr",
     "output_type": "stream",
     "text": [
      "/tmp/ipykernel_14067/635296251.py:2: SettingWithCopyWarning: \n",
      "A value is trying to be set on a copy of a slice from a DataFrame.\n",
      "Try using .loc[row_indexer,col_indexer] = value instead\n",
      "\n",
      "See the caveats in the documentation: https://pandas.pydata.org/pandas-docs/stable/user_guide/indexing.html#returning-a-view-versus-a-copy\n",
      "  bids.date = bids.date.astype(\"datetime64[ns]\")\n",
      "/tmp/ipykernel_14067/635296251.py:3: SettingWithCopyWarning: \n",
      "A value is trying to be set on a copy of a slice from a DataFrame.\n",
      "Try using .loc[row_indexer,col_indexer] = value instead\n",
      "\n",
      "See the caveats in the documentation: https://pandas.pydata.org/pandas-docs/stable/user_guide/indexing.html#returning-a-view-versus-a-copy\n",
      "  bids.ocid = bids.ocid.astype(\"string\")\n",
      "/tmp/ipykernel_14067/635296251.py:4: SettingWithCopyWarning: \n",
      "A value is trying to be set on a copy of a slice from a DataFrame.\n",
      "Try using .loc[row_indexer,col_indexer] = value instead\n",
      "\n",
      "See the caveats in the documentation: https://pandas.pydata.org/pandas-docs/stable/user_guide/indexing.html#returning-a-view-versus-a-copy\n",
      "  bids.tag = bids.tag.astype(\"string\")\n",
      "/tmp/ipykernel_14067/635296251.py:5: SettingWithCopyWarning: \n",
      "A value is trying to be set on a copy of a slice from a DataFrame.\n",
      "Try using .loc[row_indexer,col_indexer] = value instead\n",
      "\n",
      "See the caveats in the documentation: https://pandas.pydata.org/pandas-docs/stable/user_guide/indexing.html#returning-a-view-versus-a-copy\n",
      "  bids.bids_details_date = bids.bids_details_date.astype(\"datetime64[ns]\")\n",
      "/tmp/ipykernel_14067/635296251.py:6: SettingWithCopyWarning: \n",
      "A value is trying to be set on a copy of a slice from a DataFrame.\n",
      "Try using .loc[row_indexer,col_indexer] = value instead\n",
      "\n",
      "See the caveats in the documentation: https://pandas.pydata.org/pandas-docs/stable/user_guide/indexing.html#returning-a-view-versus-a-copy\n",
      "  bids.bids_details_value_currency = bids.bids_details_value_currency.astype(\"string\")\n",
      "/tmp/ipykernel_14067/635296251.py:7: SettingWithCopyWarning: \n",
      "A value is trying to be set on a copy of a slice from a DataFrame.\n",
      "Try using .loc[row_indexer,col_indexer] = value instead\n",
      "\n",
      "See the caveats in the documentation: https://pandas.pydata.org/pandas-docs/stable/user_guide/indexing.html#returning-a-view-versus-a-copy\n",
      "  bids.bids_details_status = bids.bids_details_status.astype(\"string\")\n"
     ]
    }
   ],
   "source": [
    "# convert\n",
    "bids.date = bids.date.astype(\"datetime64[ns]\")\n",
    "bids.ocid = bids.ocid.astype(\"string\")\n",
    "bids.tag = bids.tag.astype(\"string\")\n",
    "bids.bids_details_date = bids.bids_details_date.astype(\"datetime64[ns]\")\n",
    "bids.bids_details_value_currency = bids.bids_details_value_currency.astype(\"string\")\n",
    "bids.bids_details_status = bids.bids_details_status.astype(\"string\")"
   ]
  },
  {
   "cell_type": "code",
   "execution_count": 6,
   "metadata": {},
   "outputs": [
    {
     "data": {
      "text/plain": [
       "array(['UGX', 'USD', 'EUR', 'GBP', 'KES'], dtype=object)"
      ]
     },
     "execution_count": 6,
     "metadata": {},
     "output_type": "execute_result"
    }
   ],
   "source": [
    "#RQ1 = are all bid currencies the same?\n",
    "pd.unique(bids.bids_details_value_currency)"
   ]
  },
  {
   "cell_type": "code",
   "execution_count": 7,
   "metadata": {},
   "outputs": [
    {
     "data": {
      "text/plain": [
       "UGX    7096\n",
       "USD     224\n",
       "EUR      12\n",
       "KES       8\n",
       "GBP       5\n",
       "Name: bids_details_value_currency, dtype: int64"
      ]
     },
     "execution_count": 7,
     "metadata": {},
     "output_type": "execute_result"
    }
   ],
   "source": [
    "bids.bids_details_value_currency.value_counts()"
   ]
  },
  {
   "cell_type": "code",
   "execution_count": 8,
   "metadata": {},
   "outputs": [],
   "source": [
    "#TODO lookup/convert to UGX\n",
    "\n",
    "#for now we'll ignore those ones\n",
    "bids_ugx = bids[bids.bids_details_value_currency == 'UGX']"
   ]
  },
  {
   "cell_type": "code",
   "execution_count": 10,
   "metadata": {},
   "outputs": [
    {
     "data": {
      "text/html": [
       "<div>\n",
       "<style scoped>\n",
       "    .dataframe tbody tr th:only-of-type {\n",
       "        vertical-align: middle;\n",
       "    }\n",
       "\n",
       "    .dataframe tbody tr th {\n",
       "        vertical-align: top;\n",
       "    }\n",
       "\n",
       "    .dataframe thead th {\n",
       "        text-align: right;\n",
       "    }\n",
       "</style>\n",
       "<table border=\"1\" class=\"dataframe\">\n",
       "  <thead>\n",
       "    <tr style=\"text-align: right;\">\n",
       "      <th></th>\n",
       "      <th>Unnamed: 0</th>\n",
       "      <th>bids_details_id</th>\n",
       "      <th>bids_details_value_amount</th>\n",
       "    </tr>\n",
       "  </thead>\n",
       "  <tbody>\n",
       "    <tr>\n",
       "      <th>count</th>\n",
       "      <td>7096.000000</td>\n",
       "      <td>7096.000000</td>\n",
       "      <td>7.096000e+03</td>\n",
       "    </tr>\n",
       "    <tr>\n",
       "      <th>mean</th>\n",
       "      <td>9898.785372</td>\n",
       "      <td>233608.651917</td>\n",
       "      <td>4.617282e+08</td>\n",
       "    </tr>\n",
       "    <tr>\n",
       "      <th>std</th>\n",
       "      <td>5682.936165</td>\n",
       "      <td>8931.745378</td>\n",
       "      <td>1.376081e+10</td>\n",
       "    </tr>\n",
       "    <tr>\n",
       "      <th>min</th>\n",
       "      <td>1.000000</td>\n",
       "      <td>217682.000000</td>\n",
       "      <td>0.000000e+00</td>\n",
       "    </tr>\n",
       "    <tr>\n",
       "      <th>25%</th>\n",
       "      <td>4972.500000</td>\n",
       "      <td>225015.750000</td>\n",
       "      <td>1.300376e+06</td>\n",
       "    </tr>\n",
       "    <tr>\n",
       "      <th>50%</th>\n",
       "      <td>9895.500000</td>\n",
       "      <td>234620.000000</td>\n",
       "      <td>3.078148e+06</td>\n",
       "    </tr>\n",
       "    <tr>\n",
       "      <th>75%</th>\n",
       "      <td>14856.500000</td>\n",
       "      <td>241884.250000</td>\n",
       "      <td>4.888720e+06</td>\n",
       "    </tr>\n",
       "    <tr>\n",
       "      <th>max</th>\n",
       "      <td>19512.000000</td>\n",
       "      <td>253375.000000</td>\n",
       "      <td>7.401689e+11</td>\n",
       "    </tr>\n",
       "  </tbody>\n",
       "</table>\n",
       "</div>"
      ],
      "text/plain": [
       "         Unnamed: 0  bids_details_id  bids_details_value_amount\n",
       "count   7096.000000      7096.000000               7.096000e+03\n",
       "mean    9898.785372    233608.651917               4.617282e+08\n",
       "std     5682.936165      8931.745378               1.376081e+10\n",
       "min        1.000000    217682.000000               0.000000e+00\n",
       "25%     4972.500000    225015.750000               1.300376e+06\n",
       "50%     9895.500000    234620.000000               3.078148e+06\n",
       "75%    14856.500000    241884.250000               4.888720e+06\n",
       "max    19512.000000    253375.000000               7.401689e+11"
      ]
     },
     "execution_count": 10,
     "metadata": {},
     "output_type": "execute_result"
    }
   ],
   "source": [
    "bids_ugx.describe()"
   ]
  },
  {
   "cell_type": "code",
   "execution_count": 14,
   "metadata": {},
   "outputs": [
    {
     "data": {
      "text/plain": [
       "<StringArray>\n",
       "['valid']\n",
       "Length: 1, dtype: string"
      ]
     },
     "execution_count": 14,
     "metadata": {},
     "output_type": "execute_result"
    }
   ],
   "source": [
    "pd.unique(bids.bids_details_status)\n",
    "## all the same so can't tell us anything"
   ]
  },
  {
   "cell_type": "code",
   "execution_count": 15,
   "metadata": {},
   "outputs": [
    {
     "data": {
      "text/plain": [
       "<StringArray>\n",
       "['compiled']\n",
       "Length: 1, dtype: string"
      ]
     },
     "execution_count": 15,
     "metadata": {},
     "output_type": "execute_result"
    }
   ],
   "source": [
    "pd.unique(bids.tag)\n",
    "# all the same, should probably filter out at R time"
   ]
  },
  {
   "cell_type": "code",
   "execution_count": null,
   "metadata": {},
   "outputs": [],
   "source": [
    "bis = = bids.drop([\"tag\", \"bids_details_status\"], axis=1)"
   ]
  }
 ],
 "metadata": {
  "kernelspec": {
   "display_name": "edm-water",
   "language": "python",
   "name": "edm-water"
  },
  "language_info": {
   "codemirror_mode": {
    "name": "ipython",
    "version": 3
   },
   "file_extension": ".py",
   "mimetype": "text/x-python",
   "name": "python",
   "nbconvert_exporter": "python",
   "pygments_lexer": "ipython3",
   "version": "3.8.7"
  },
  "orig_nbformat": 4
 },
 "nbformat": 4,
 "nbformat_minor": 2
}
