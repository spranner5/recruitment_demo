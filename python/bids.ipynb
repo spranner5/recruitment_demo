{
 "cells": [
  {
   "cell_type": "code",
   "execution_count": null,
   "metadata": {},
   "outputs": [],
   "source": [
    "import pandas as pd\n",
    "import seaborn as sns\n",
    "import matplotlib.pyplot as plt"
   ]
  },
  {
   "cell_type": "code",
   "execution_count": null,
   "metadata": {},
   "outputs": [],
   "source": [
    "# load data\n",
    "bids = pd.read_csv(\"../data/uganda_22_bids.csv\")"
   ]
  },
  {
   "cell_type": "code",
   "execution_count": null,
   "metadata": {},
   "outputs": [],
   "source": [
    "# check\n",
    "bids.info()"
   ]
  },
  {
   "cell_type": "code",
   "execution_count": null,
   "metadata": {},
   "outputs": [],
   "source": [
    "# lots of nulls, drop them\n",
    "bids = bids.dropna()\n",
    "bids.info()"
   ]
  },
  {
   "cell_type": "code",
   "execution_count": null,
   "metadata": {},
   "outputs": [],
   "source": [
    "# convert\n",
    "bids.date = bids.date.astype(\"datetime64[ns]\")\n",
    "bids.ocid = bids.ocid.astype(\"string\")\n",
    "bids.tag = bids.tag.astype(\"string\")\n",
    "bids.bids_details_date = bids.bids_details_date.astype(\"datetime64[ns]\")\n",
    "bids.bids_details_value_currency = bids.bids_details_value_currency.astype(\"string\")\n",
    "bids.bids_details_status = bids.bids_details_status.astype(\"string\")"
   ]
  },
  {
   "cell_type": "code",
   "execution_count": null,
   "metadata": {},
   "outputs": [],
   "source": [
    "#RQ1 = are all bid currencies the same?\n",
    "pd.unique(bids.bids_details_value_currency)"
   ]
  },
  {
   "cell_type": "code",
   "execution_count": null,
   "metadata": {},
   "outputs": [],
   "source": [
    "bids.bids_details_value_currency.value_counts()"
   ]
  },
  {
   "cell_type": "code",
   "execution_count": null,
   "metadata": {},
   "outputs": [],
   "source": [
    "#TODO lookup/convert to UGX\n",
    "\n",
    "#for now we'll ignore those ones\n",
    "bids_ugx = bids[bids.bids_details_value_currency == 'UGX']"
   ]
  },
  {
   "cell_type": "code",
   "execution_count": null,
   "metadata": {},
   "outputs": [],
   "source": [
    "bids_ugx.describe()"
   ]
  },
  {
   "cell_type": "code",
   "execution_count": null,
   "metadata": {},
   "outputs": [],
   "source": [
    "pd.unique(bids.bids_details_status)\n",
    "## all the same so can't tell us anything"
   ]
  },
  {
   "cell_type": "code",
   "execution_count": null,
   "metadata": {},
   "outputs": [],
   "source": [
    "pd.unique(bids.tag)\n",
    "# all the same, should probably filter out at R time"
   ]
  },
  {
   "cell_type": "code",
   "execution_count": null,
   "metadata": {},
   "outputs": [],
   "source": [
    "bids = bids.drop([\"tag\", \"bids_details_status\"], axis=1)"
   ]
  },
  {
   "cell_type": "code",
   "execution_count": null,
   "metadata": {},
   "outputs": [],
   "source": [
    "# time of bids / ammount\n",
    "bids.plot(x=\"bids_details_date\", y=\"bids_details_value_amount\", kind=\"scatter\")"
   ]
  },
  {
   "cell_type": "code",
   "execution_count": null,
   "metadata": {},
   "outputs": [],
   "source": [
    "# that date outlier is making plotting difficult so let's leave that out\n",
    "# TODO check for impossible dates!\n",
    "min(bids.bids_details_date)"
   ]
  },
  {
   "cell_type": "code",
   "execution_count": null,
   "metadata": {},
   "outputs": [],
   "source": [
    "bids[bids.bids_details_date.dt.year > 2004].plot(x=\"bids_details_date\", y=\"bids_details_value_amount\", kind=\"scatter\")"
   ]
  },
  {
   "cell_type": "code",
   "execution_count": null,
   "metadata": {},
   "outputs": [],
   "source": [
    "#subset again for < 1\n",
    "subset_bids = bids[bids.bids_details_date.dt.year > 2004]\n",
    "subset_bids = subset_bids[subset_bids.bids_details_value_amount < 2.0e+9]\n",
    "\n",
    "\n",
    "\n"
   ]
  },
  {
   "cell_type": "code",
   "execution_count": null,
   "metadata": {},
   "outputs": [],
   "source": [
    "plot_value_by_year(subset_bids)"
   ]
  },
  {
   "cell_type": "code",
   "execution_count": null,
   "metadata": {},
   "outputs": [],
   "source": [
    "# what have we omitted?\n",
    "# Get the index of the rows in df that are not in subset\n",
    "not_in_subset = bids.index.difference(subset_bids.index)\n",
    "\n",
    "# Get the DataFrame of the rows that are not in subset\n",
    "bids_not_in_subset = bids.loc[not_in_subset]\n",
    "plot_value_by_year(bids_not_in_subset[bids.bids_details_date.dt.year > 2004])\n",
    "plt.xticks(rotation=45)\n",
    "plt.show()"
   ]
  },
  {
   "cell_type": "code",
   "execution_count": null,
   "metadata": {},
   "outputs": [],
   "source": [
    "bids_not_in_subset"
   ]
  },
  {
   "cell_type": "code",
   "execution_count": null,
   "metadata": {},
   "outputs": [],
   "source": [
    "# top bids\n",
    "bids.sort_values('bids_details_value_amount', ascending=False).head(30)"
   ]
  },
  {
   "cell_type": "code",
   "execution_count": null,
   "metadata": {},
   "outputs": [],
   "source": [
    "def plot_value_by_year(dataframe):\n",
    "    dataframe.plot(x=\"bids_details_date\", y=\"bids_details_value_amount\", kind=\"scatter\")"
   ]
  },
  {
   "cell_type": "code",
   "execution_count": null,
   "metadata": {},
   "outputs": [],
   "source": [
    "# output to /output\n",
    "plt.savefig(\"../output/uganda_bids_ugx_incl_top.png\")"
   ]
  }
 ],
 "metadata": {
  "kernelspec": {
   "display_name": "edm-water",
   "language": "python",
   "name": "edm-water"
  },
  "language_info": {
   "codemirror_mode": {
    "name": "ipython",
    "version": 3
   },
   "file_extension": ".py",
   "mimetype": "text/x-python",
   "name": "python",
   "nbconvert_exporter": "python",
   "pygments_lexer": "ipython3",
   "version": "3.8.7"
  },
  "orig_nbformat": 4
 },
 "nbformat": 4,
 "nbformat_minor": 2
}
