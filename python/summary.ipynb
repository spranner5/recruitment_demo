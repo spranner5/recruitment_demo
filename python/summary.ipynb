{
 "cells": [
  {
   "attachments": {},
   "cell_type": "markdown",
   "id": "1380c246-a91f-419c-bab2-a901ee6cef93",
   "metadata": {},
   "source": [
    "# Create summary data for Uganda"
   ]
  },
  {
   "cell_type": "code",
   "execution_count": null,
   "id": "d61587c6-ce18-4922-abdf-a9196874eefb",
   "metadata": {
    "tags": []
   },
   "outputs": [],
   "source": [
    "import pandas as pd\n",
    "import seaborn as sns"
   ]
  },
  {
   "cell_type": "code",
   "execution_count": null,
   "id": "c6951372",
   "metadata": {},
   "outputs": [],
   "source": [
    "data_folder = \"../data\"\n",
    "#TODO make consistent"
   ]
  },
  {
   "attachments": {},
   "cell_type": "markdown",
   "id": "0cadf549-a944-493a-b20e-08c9e99fb0c2",
   "metadata": {},
   "source": [
    "Read data"
   ]
  },
  {
   "cell_type": "code",
   "execution_count": null,
   "id": "f6bf6cdb-ae8e-40d3-a856-0b725f362404",
   "metadata": {
    "tags": []
   },
   "outputs": [],
   "source": [
    "df = pd.read_csv(\"../data/uganda_23_month.csv\")"
   ]
  },
  {
   "attachments": {},
   "cell_type": "markdown",
   "id": "1e163166",
   "metadata": {},
   "source": [
    "check this is what we're expecting from our cleaned data"
   ]
  },
  {
   "cell_type": "code",
   "execution_count": null,
   "id": "12a79c5c",
   "metadata": {},
   "outputs": [],
   "source": [
    "%matplotlib inline"
   ]
  },
  {
   "cell_type": "code",
   "execution_count": null,
   "id": "369d562b",
   "metadata": {},
   "outputs": [],
   "source": [
    "df #only 12 so we can just output"
   ]
  },
  {
   "cell_type": "code",
   "execution_count": null,
   "id": "6d0df7ae",
   "metadata": {},
   "outputs": [],
   "source": [
    "df.info()"
   ]
  },
  {
   "cell_type": "code",
   "execution_count": null,
   "id": "db3f20bb",
   "metadata": {},
   "outputs": [],
   "source": [
    "df.dtypes #check read in ok"
   ]
  },
  {
   "cell_type": "code",
   "execution_count": null,
   "id": "40560e2c",
   "metadata": {},
   "outputs": [],
   "source": [
    "# but we actually want row level data\n",
    "df = pd.read_csv(\"../data/uganda_22_awards.csv\")\n"
   ]
  },
  {
   "cell_type": "code",
   "execution_count": null,
   "id": "1912855f",
   "metadata": {},
   "outputs": [],
   "source": [
    "# fix dtypes\n",
    "df.date = df.date.astype('datetime64[ns]')\n",
    "df.awards_date = df.awards_date.astype('datetime64[ns]')\n",
    "df.tag = df.tag.astype('string')\n",
    "df.awards_v_currency = df.awards_v_currency.astype('string')\n",
    "df.awards_suppliers_name = df.awards_suppliers_name.astype('string')"
   ]
  },
  {
   "cell_type": "code",
   "execution_count": null,
   "id": "105ea74b",
   "metadata": {},
   "outputs": [],
   "source": [
    "df.dtypes"
   ]
  },
  {
   "cell_type": "code",
   "execution_count": null,
   "id": "4f09f2bf",
   "metadata": {},
   "outputs": [],
   "source": [
    "df.head(8)"
   ]
  },
  {
   "cell_type": "code",
   "execution_count": null,
   "id": "dd8492f5",
   "metadata": {},
   "outputs": [],
   "source": [
    "df.describe()"
   ]
  },
  {
   "cell_type": "code",
   "execution_count": null,
   "id": "01257c3a",
   "metadata": {},
   "outputs": [],
   "source": [
    "df.info()"
   ]
  },
  {
   "cell_type": "code",
   "execution_count": null,
   "id": "9b4e056b",
   "metadata": {},
   "outputs": [],
   "source": [
    "# check currency\n",
    "pd.unique(df.awards_v_currency)"
   ]
  },
  {
   "cell_type": "code",
   "execution_count": null,
   "id": "79847fd4",
   "metadata": {},
   "outputs": [],
   "source": [
    "# filter out non-UGX for now\n",
    "df = df[df.awards_v_currency == 'UGX']"
   ]
  },
  {
   "cell_type": "code",
   "execution_count": null,
   "id": "7cb757f9",
   "metadata": {},
   "outputs": [],
   "source": [
    "# distribution of values\n",
    "# but we should not expect normal dist anyway\n",
    "import numpy as np\n",
    "numbers = df.select_dtypes(include = np.number)\n",
    "\n"
   ]
  },
  {
   "cell_type": "code",
   "execution_count": null,
   "id": "7f8e96d6",
   "metadata": {},
   "outputs": [],
   "source": [
    "df.boxplot('awards_v_amount')"
   ]
  },
  {
   "cell_type": "code",
   "execution_count": null,
   "id": "c746191c",
   "metadata": {},
   "outputs": [],
   "source": [
    "# look at those maxes\n",
    "top_awards = df.sort_values('awards_v_amount', ascending=False).head(10)\n",
    "top_awards"
   ]
  },
  {
   "cell_type": "code",
   "execution_count": null,
   "id": "4b94e536",
   "metadata": {},
   "outputs": [],
   "source": [
    "# mins\n",
    "btm_awards = df.sort_values('awards_v_amount', ascending=True).head(10)\n",
    "btm_awards"
   ]
  },
  {
   "cell_type": "code",
   "execution_count": null,
   "id": "3c75a6e8",
   "metadata": {},
   "outputs": [],
   "source": [
    "# remove records where award is zero valued\n",
    "df = df[df.awards_v_amount > 0]\n",
    "# then run cell above again to confirm"
   ]
  },
  {
   "cell_type": "markdown",
   "id": "dc983f92",
   "metadata": {},
   "source": []
  },
  {
   "cell_type": "code",
   "execution_count": null,
   "id": "55450608",
   "metadata": {},
   "outputs": [],
   "source": [
    "# exclude top 10 in plot\n",
    "mask = ~df.ocid.isin(top_awards.ocid)\n",
    "exltop = df[mask]"
   ]
  },
  {
   "cell_type": "code",
   "execution_count": null,
   "id": "125d199a",
   "metadata": {},
   "outputs": [],
   "source": [
    "\n",
    "import matplotlib.pyplot as plt\n",
    "plt.figure()\n",
    "chart = sns.lineplot(x='awards_date', y=\"awards_v_amount\", data=exltop)\n",
    "\n",
    "# Rotate the xlabels\n",
    "#chart.set_xticklabels(chart.get_xticklabels(), rotation=45)\n",
    "\n",
    "chart.xaxis.set_tick_params(labelrotation = 90)\n",
    "\n",
    "# Show the plot\n",
    "plt.show()"
   ]
  },
  {
   "cell_type": "code",
   "execution_count": null,
   "id": "d7054728",
   "metadata": {},
   "outputs": [],
   "source": [
    "# output to /output\n",
    "plt.savefig(\"../output/uganda_awards_time_exl_top.png\")"
   ]
  }
 ],
 "metadata": {
  "kernelspec": {
   "display_name": "edm-water",
   "language": "python",
   "name": "edm-water"
  },
  "language_info": {
   "codemirror_mode": {
    "name": "ipython",
    "version": 3
   },
   "file_extension": ".py",
   "mimetype": "text/x-python",
   "name": "python",
   "nbconvert_exporter": "python",
   "pygments_lexer": "ipython3",
   "version": "3.8.7"
  },
  "vscode": {
   "interpreter": {
    "hash": "eb94b9c52b22a191b94d00e67c3e6029ab564c9af4c36fa45699e73e91706456"
   }
  }
 },
 "nbformat": 4,
 "nbformat_minor": 5
}
